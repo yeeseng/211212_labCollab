{
 "cells": [
  {
   "cell_type": "code",
   "execution_count": 1,
   "metadata": {},
   "outputs": [],
   "source": [
    "import pandas as pd\n",
    "import numpy as np\n",
    "import math\n",
    "import statistics\n",
    "import glob\n",
    "import tqdm\n",
    "\n",
    "import matplotlib.pyplot as plt\n",
    "import numpy as np"
   ]
  },
  {
   "cell_type": "code",
   "execution_count": 2,
   "metadata": {},
   "outputs": [],
   "source": [
    "listOfIncludedYears = [2009,2016,2017,2018,2019,2020]\n",
    "dataFilePath = 'Data/lab_data/req1512_lab_year.csv'\n",
    "labsOfInterest = ['ALT', 'ALT (SGPT)']"
   ]
  },
  {
   "cell_type": "code",
   "execution_count": 3,
   "metadata": {},
   "outputs": [
    {
     "name": "stderr",
     "output_type": "stream",
     "text": [
      "/home/yee/anaconda3/envs/pyTorchEnv/lib/python3.8/site-packages/IPython/core/interactiveshell.py:3145: DtypeWarning: Columns (22) have mixed types.Specify dtype option on import or set low_memory=False.\n",
      "  has_raised = await self.run_ast_nodes(code_ast.body, cell_name,\n",
      "/home/yee/anaconda3/envs/pyTorchEnv/lib/python3.8/site-packages/IPython/core/interactiveshell.py:3145: DtypeWarning: Columns (21,22) have mixed types.Specify dtype option on import or set low_memory=False.\n",
      "  has_raised = await self.run_ast_nodes(code_ast.body, cell_name,\n"
     ]
    }
   ],
   "source": [
    "listOfReference_Low = []\n",
    "listOfReference_High = []\n",
    "\n",
    "for eachYear in listOfIncludedYears:\n",
    "    filePath = dataFilePath.replace('year',str(eachYear))\n",
    "    workingDataFrame = pd.read_csv(filePath,\n",
    "                                   usecols=['MRN', 'PAT_ENC_CSN_ID', 'ORDER_PROC_ID', 'ORDERING_DATE', 'COMMON_NAME',\n",
    "                                            'COMPONENT_NAME', 'BASE_NAME', 'ORD_VALUE', 'REFERENCE_LOW', 'REFERENCE_HIGH', 'REFERENCE_UNIT'])\n",
    "    workingDataFrame['MRN'] = workingDataFrame['MRN'].astype('str')\n",
    "    thisListOfMRNs = workingDataFrame['MRN'].unique().tolist()\n",
    "\n",
    "    filteredMrnDataFrame = workingDataFrame[workingDataFrame['COMMON_NAME']=='ALT']\n",
    "    listOfReference_Low += filteredMrnDataFrame['REFERENCE_LOW'].tolist()\n",
    "    listOfReference_High += filteredMrnDataFrame['REFERENCE_HIGH'].tolist()"
   ]
  },
  {
   "cell_type": "code",
   "execution_count": 4,
   "metadata": {},
   "outputs": [
    {
     "name": "stdout",
     "output_type": "stream",
     "text": [
      "1162338\n"
     ]
    }
   ],
   "source": [
    "print(len(listOfReference_Low))"
   ]
  },
  {
   "cell_type": "code",
   "execution_count": null,
   "metadata": {},
   "outputs": [],
   "source": [
    "print('reference value low')\n",
    "print(set(listOfReference_Low))\n",
    "plt.figure(figsize=(10, 10))\n",
    "plt.hist(listOfReference_Low)"
   ]
  },
  {
   "cell_type": "code",
   "execution_count": null,
   "metadata": {},
   "outputs": [],
   "source": [
    "print('reference value high')\n",
    "print(set(listOfReference_High))\n",
    "plt.figure(figsize=(10, 10))\n",
    "plt.hist(listOfReference_High)"
   ]
  },
  {
   "cell_type": "code",
   "execution_count": null,
   "metadata": {
    "scrolled": true
   },
   "outputs": [],
   "source": [
    "listOfReference_High = [float(x) for x in listOfReference_High]\n",
    "listOfReference_High = [x for x in listOfReference_High if np.isnan(x) == False]\n",
    "print('reference value high')\n",
    "print(set(listOfReference_High))\n",
    "plt.figure(figsize=(10, 10))\n",
    "plt.hist(listOfReference_High)"
   ]
  }
 ],
 "metadata": {
  "kernelspec": {
   "display_name": "pyTorchEnv",
   "language": "python",
   "name": "pytorchenv"
  },
  "language_info": {
   "codemirror_mode": {
    "name": "ipython",
    "version": 3
   },
   "file_extension": ".py",
   "mimetype": "text/x-python",
   "name": "python",
   "nbconvert_exporter": "python",
   "pygments_lexer": "ipython3",
   "version": "3.8.5"
  }
 },
 "nbformat": 4,
 "nbformat_minor": 4
}
