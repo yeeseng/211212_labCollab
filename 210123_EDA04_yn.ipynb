{
 "cells": [
  {
   "cell_type": "code",
   "execution_count": 1,
   "metadata": {},
   "outputs": [],
   "source": [
    "import pandas as pd\n",
    "import numpy as np\n",
    "import math\n",
    "import statistics\n",
    "import glob\n",
    "import tqdm\n",
    "\n",
    "import matplotlib.pyplot as plt\n",
    "import numpy as np"
   ]
  },
  {
   "cell_type": "code",
   "execution_count": 2,
   "metadata": {},
   "outputs": [],
   "source": [
    "listOfIncludedYears = [2009,2016,2017,2018,2019,2020]\n",
    "dataFilePath = 'Data/lab_data/req1512_lab_year.csv'\n",
    "labsOfInterest = ['ALT', 'ALT (SGPT)']"
   ]
  },
  {
   "cell_type": "code",
   "execution_count": 3,
   "metadata": {},
   "outputs": [
    {
     "name": "stderr",
     "output_type": "stream",
     "text": [
      "/home/yee/anaconda3/envs/pyTorchEnv/lib/python3.8/site-packages/IPython/core/interactiveshell.py:3145: DtypeWarning: Columns (22) have mixed types.Specify dtype option on import or set low_memory=False.\n",
      "  has_raised = await self.run_ast_nodes(code_ast.body, cell_name,\n",
      "/home/yee/anaconda3/envs/pyTorchEnv/lib/python3.8/site-packages/IPython/core/interactiveshell.py:3145: DtypeWarning: Columns (21,22) have mixed types.Specify dtype option on import or set low_memory=False.\n",
      "  has_raised = await self.run_ast_nodes(code_ast.body, cell_name,\n"
     ]
    }
   ],
   "source": [
    "listOfReference_Low = []\n",
    "listOfReference_High = []\n",
    "\n",
    "for eachYear in listOfIncludedYears:\n",
    "    filePath = dataFilePath.replace('year',str(eachYear))\n",
    "    workingDataFrame = pd.read_csv(filePath,\n",
    "                                   usecols=['MRN', 'PAT_ENC_CSN_ID', 'ORDER_PROC_ID', 'ORDERING_DATE', 'COMMON_NAME',\n",
    "                                            'COMPONENT_NAME', 'BASE_NAME', 'ORD_VALUE', 'REFERENCE_LOW', 'REFERENCE_HIGH', 'REFERENCE_UNIT'])\n",
    "    workingDataFrame['MRN'] = workingDataFrame['MRN'].astype('str')\n",
    "    thisListOfMRNs = workingDataFrame['MRN'].unique().tolist()\n",
    "\n",
    "    filteredMrnDataFrame = workingDataFrame[workingDataFrame['COMMON_NAME']=='ALT']\n",
    "    listOfReference_Low += list(set(filteredMrnDataFrame['REFERENCE_LOW'].tolist()))\n",
    "    listOfReference_High += list(set(filteredMrnDataFrame['REFERENCE_HIGH'].tolist()))"
   ]
  },
  {
   "cell_type": "code",
   "execution_count": 4,
   "metadata": {},
   "outputs": [
    {
     "ename": "SyntaxError",
     "evalue": "invalid syntax (<ipython-input-4-2d0f8f783cd9>, line 3)",
     "output_type": "error",
     "traceback": [
      "\u001b[0;36m  File \u001b[0;32m\"<ipython-input-4-2d0f8f783cd9>\"\u001b[0;36m, line \u001b[0;32m3\u001b[0m\n\u001b[0;31m    for x in listOfReference_High: nanCount+=1 if np.isnan(x) == True\u001b[0m\n\u001b[0m                                                                     ^\u001b[0m\n\u001b[0;31mSyntaxError\u001b[0m\u001b[0;31m:\u001b[0m invalid syntax\n"
     ]
    }
   ],
   "source": [
    "nanCount = 0\n",
    "listOfReference_High = [float(x) for x in listOfReference_High]\n",
    "for x in listOfReference_High: nanCount+=1 if np.isnan(x) == True\n",
    "listOfReference_High = [x for x in listOfReference_High if np.isnan(x) == False]\n",
    "print('reference value low')\n",
    "print('nan count:', nanCount)\n",
    "print('non-nan count:', len(listOfReference_High))\n",
    "print(set(listOfReference_High))\n",
    "plt.figure(figsize=(10, 10))\n",
    "plt.hist(listOfReference_High)"
   ]
  },
  {
   "cell_type": "code",
   "execution_count": null,
   "metadata": {},
   "outputs": [],
   "source": [
    "print('reference value high')\n",
    "print(set(listOfReference_High))\n",
    "plt.figure(figsize=(10, 10))\n",
    "plt.hist(listOfReference_High)"
   ]
  },
  {
   "cell_type": "code",
   "execution_count": null,
   "metadata": {
    "scrolled": true
   },
   "outputs": [],
   "source": [
    "listOfReference_High = [float(x) for x in listOfReference_High]\n",
    "listOfReference_High = [x for x in listOfReference_High if np.isnan(x) == False]\n",
    "print('reference value high')\n",
    "print(set(listOfReference_High))\n",
    "plt.figure(figsize=(10, 10))\n",
    "plt.hist(listOfReference_High)"
   ]
  },
  {
   "cell_type": "code",
   "execution_count": null,
   "metadata": {},
   "outputs": [],
   "source": [
    "listOfReference_Low = []\n",
    "listOfReference_High = []\n",
    "\n",
    "for eachYear in listOfIncludedYears:\n",
    "    filePath = dataFilePath.replace('year',str(eachYear))\n",
    "    workingDataFrame = pd.read_csv(filePath,\n",
    "                                   usecols=['MRN', 'PAT_ENC_CSN_ID', 'ORDER_PROC_ID', 'ORDERING_DATE', 'COMMON_NAME',\n",
    "                                            'COMPONENT_NAME', 'BASE_NAME', 'ORD_VALUE', 'REFERENCE_LOW', 'REFERENCE_HIGH', 'REFERENCE_UNIT'])\n",
    "    workingDataFrame['MRN'] = workingDataFrame['MRN'].astype('str')\n",
    "    thisListOfMRNs = workingDataFrame['MRN'].unique().tolist()\n",
    "\n",
    "    filteredMrnDataFrame = workingDataFrame[workingDataFrame['COMMON_NAME']=='ALT (SGPT)']\n",
    "    listOfReference_Low += list(set(filteredMrnDataFrame['REFERENCE_LOW'].tolist()))\n",
    "    listOfReference_High += list(set(filteredMrnDataFrame['REFERENCE_HIGH'].tolist()))"
   ]
  }
 ],
 "metadata": {
  "kernelspec": {
   "display_name": "pyTorchEnv",
   "language": "python",
   "name": "pytorchenv"
  },
  "language_info": {
   "codemirror_mode": {
    "name": "ipython",
    "version": 3
   },
   "file_extension": ".py",
   "mimetype": "text/x-python",
   "name": "python",
   "nbconvert_exporter": "python",
   "pygments_lexer": "ipython3",
   "version": "3.8.5"
  }
 },
 "nbformat": 4,
 "nbformat_minor": 4
}
