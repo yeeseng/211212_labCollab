{
 "cells": [
  {
   "cell_type": "code",
   "execution_count": 1,
   "metadata": {},
   "outputs": [],
   "source": [
    "import pandas as pd\n",
    "import math\n",
    "import matplotlib.pyplot as plt"
   ]
  },
  {
   "cell_type": "code",
   "execution_count": 2,
   "metadata": {},
   "outputs": [],
   "source": [
    "dataDF = pd.read_csv('scarcityMetric.txt')"
   ]
  },
  {
   "cell_type": "code",
   "execution_count": 3,
   "metadata": {},
   "outputs": [
    {
     "data": {
      "text/html": [
       "<div>\n",
       "<style scoped>\n",
       "    .dataframe tbody tr th:only-of-type {\n",
       "        vertical-align: middle;\n",
       "    }\n",
       "\n",
       "    .dataframe tbody tr th {\n",
       "        vertical-align: top;\n",
       "    }\n",
       "\n",
       "    .dataframe thead th {\n",
       "        text-align: right;\n",
       "    }\n",
       "</style>\n",
       "<table border=\"1\" class=\"dataframe\">\n",
       "  <thead>\n",
       "    <tr style=\"text-align: right;\">\n",
       "      <th></th>\n",
       "      <th>mrn</th>\n",
       "      <th>count</th>\n",
       "      <th>occupied</th>\n",
       "    </tr>\n",
       "  </thead>\n",
       "  <tbody>\n",
       "    <tr>\n",
       "      <th>0</th>\n",
       "      <td>90146673</td>\n",
       "      <td>11315</td>\n",
       "      <td>0.572621</td>\n",
       "    </tr>\n",
       "    <tr>\n",
       "      <th>1</th>\n",
       "      <td>71047412</td>\n",
       "      <td>11447</td>\n",
       "      <td>0.579302</td>\n",
       "    </tr>\n",
       "    <tr>\n",
       "      <th>2</th>\n",
       "      <td>91504156</td>\n",
       "      <td>7480</td>\n",
       "      <td>0.378543</td>\n",
       "    </tr>\n",
       "    <tr>\n",
       "      <th>3</th>\n",
       "      <td>73520607</td>\n",
       "      <td>11543</td>\n",
       "      <td>0.584160</td>\n",
       "    </tr>\n",
       "    <tr>\n",
       "      <th>4</th>\n",
       "      <td>91946349</td>\n",
       "      <td>6895</td>\n",
       "      <td>0.348937</td>\n",
       "    </tr>\n",
       "  </tbody>\n",
       "</table>\n",
       "</div>"
      ],
      "text/plain": [
       "        mrn  count  occupied\n",
       "0  90146673  11315  0.572621\n",
       "1  71047412  11447  0.579302\n",
       "2  91504156   7480  0.378543\n",
       "3  73520607  11543  0.584160\n",
       "4  91946349   6895  0.348937"
      ]
     },
     "execution_count": 3,
     "metadata": {},
     "output_type": "execute_result"
    }
   ],
   "source": [
    "dataDF.head()"
   ]
  },
  {
   "cell_type": "code",
   "execution_count": 4,
   "metadata": {},
   "outputs": [],
   "source": [
    "occupied = dataDF['occupied'].tolist()"
   ]
  },
  {
   "cell_type": "code",
   "execution_count": 5,
   "metadata": {},
   "outputs": [
    {
     "name": "stdout",
     "output_type": "stream",
     "text": [
      "count: 455034\n"
     ]
    }
   ],
   "source": [
    "# count of cases\n",
    "print(\"count:\", len(occupied))"
   ]
  },
  {
   "cell_type": "code",
   "execution_count": 6,
   "metadata": {},
   "outputs": [
    {
     "name": "stdout",
     "output_type": "stream",
     "text": [
      "mean: 0.2909085881093213\n"
     ]
    }
   ],
   "source": [
    "mean = sum(occupied)/len(occupied)\n",
    "print(\"mean:\", mean)"
   ]
  },
  {
   "cell_type": "code",
   "execution_count": 7,
   "metadata": {},
   "outputs": [
    {
     "data": {
      "text/plain": [
       "(array([1.3645e+04, 2.0146e+04, 4.3544e+04, 4.9149e+04, 5.5163e+04,\n",
       "        5.3926e+04, 4.1842e+04, 3.5812e+04, 2.5280e+04, 2.5071e+04,\n",
       "        2.2440e+04, 1.8842e+04, 1.8935e+04, 1.6586e+04, 7.6780e+03,\n",
       "        4.2670e+03, 1.8280e+03, 6.3900e+02, 2.1200e+02, 2.9000e+01]),\n",
       " array([0.        , 0.04428644, 0.08857287, 0.13285931, 0.17714575,\n",
       "        0.22143219, 0.26571862, 0.31000506, 0.3542915 , 0.39857794,\n",
       "        0.44286437, 0.48715081, 0.53143725, 0.57572368, 0.62001012,\n",
       "        0.66429656, 0.708583  , 0.75286943, 0.79715587, 0.84144231,\n",
       "        0.88572874]),\n",
       " <a list of 20 Patch objects>)"
      ]
     },
     "execution_count": 7,
     "metadata": {},
     "output_type": "execute_result"
    },
    {
     "data": {
      "image/png": "[encoded data removed]",
      "text/plain": [
       "<Figure size 432x288 with 1 Axes>"
      ]
     },
     "metadata": {
      "needs_background": "light"
     },
     "output_type": "display_data"
    }
   ],
   "source": [
    "plt.hist(occupied, bins=20)"
   ]
  }
 ],
 "metadata": {
  "kernelspec": {
   "display_name": "Python (DLenv)",
   "language": "python",
   "name": "dlenv"
  },
  "language_info": {
   "codemirror_mode": {
    "name": "ipython",
    "version": 3
   },
   "file_extension": ".py",
   "mimetype": "text/x-python",
   "name": "python",
   "nbconvert_exporter": "python",
   "pygments_lexer": "ipython3",
   "version": "3.6.8"
  }
 },
 "nbformat": 4,
 "nbformat_minor": 4
}
