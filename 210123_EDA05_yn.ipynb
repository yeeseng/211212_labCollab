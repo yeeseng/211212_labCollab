{
 "cells": [
  {
   "cell_type": "code",
   "execution_count": 1,
   "metadata": {},
   "outputs": [],
   "source": [
    "import pandas as pd\n",
    "import numpy as np\n",
    "import math\n",
    "import statistics\n",
    "import glob\n",
    "import tqdm\n",
    "\n",
    "import matplotlib.pyplot as plt\n",
    "import numpy as np"
   ]
  },
  {
   "cell_type": "code",
   "execution_count": 2,
   "metadata": {},
   "outputs": [],
   "source": [
    "listOfIncludedYears = [2009,2016,2017,2018,2019,2020]\n",
    "dataFilePath = 'Data/lab_data/req1512_lab_year.csv'\n",
    "labsOfInterest = ['ALT', 'ALT (SGPT)']"
   ]
  },
  {
   "cell_type": "code",
   "execution_count": 3,
   "metadata": {},
   "outputs": [
    {
     "name": "stderr",
     "output_type": "stream",
     "text": [
      "/home/yee/anaconda3/envs/pyTorchEnv/lib/python3.8/site-packages/IPython/core/interactiveshell.py:3145: DtypeWarning: Columns (22) have mixed types.Specify dtype option on import or set low_memory=False.\n",
      "  has_raised = await self.run_ast_nodes(code_ast.body, cell_name,\n",
      "/home/yee/anaconda3/envs/pyTorchEnv/lib/python3.8/site-packages/IPython/core/interactiveshell.py:3145: DtypeWarning: Columns (21,22) have mixed types.Specify dtype option on import or set low_memory=False.\n",
      "  has_raised = await self.run_ast_nodes(code_ast.body, cell_name,\n"
     ]
    },
    {
     "name": "stdout",
     "output_type": "stream",
     "text": [
      "ALT\n",
      "{'BMP (BASIC METABOLIC PANEL)', 'ALKALINE PHOSPHATASE', 'HEMOGRAM + DIFF', 'CMPL (COMPREHENSIVE METABOLIC PANEL)', 'ALT (SGPT)', 'CMP14+LP+CBC/D/PLT+TSH+B12+', 'AST (SGOT)', 'COMPREHENSIVE METABOLIC PANEL W/O EGFR', 'CMP14+LP+5AC+CBC/D/PLT', 'CHEMOGRAM 18'}\n",
      "ALT (SGPT)\n",
      "{'BMP (BASIC METABOLIC PANEL)', 'CMPL (COMPREHENSIVE METABOLIC PANEL)'}\n"
     ]
    }
   ],
   "source": [
    "for eachLab in labsOfInterest:\n",
    "    listOfProcNames = []\n",
    "    for eachYear in listOfIncludedYears:\n",
    "        filePath = dataFilePath.replace('year',str(eachYear))\n",
    "        workingDataFrame = pd.read_csv(filePath,\n",
    "                                       usecols=['MRN', 'PROC_NAME', 'PAT_ENC_CSN_ID', 'ORDER_PROC_ID', 'ORDERING_DATE', 'COMMON_NAME',\n",
    "                                                'COMPONENT_NAME', 'BASE_NAME', 'ORD_VALUE', 'REFERENCE_LOW', 'REFERENCE_HIGH', 'REFERENCE_UNIT'])\n",
    "        workingDataFrame['MRN'] = workingDataFrame['MRN'].astype('str')\n",
    "        filteredMrnDataFrame = workingDataFrame[workingDataFrame['COMMON_NAME']==eachLab]\n",
    "        listOfProcNames += filteredMrnDataFrame['PROC_NAME'].tolist()\n",
    "    print(eachLab)\n",
    "    print(set(listOfProcNames))"
   ]
  }
 ],
 "metadata": {
  "kernelspec": {
   "display_name": "pyTorchEnv",
   "language": "python",
   "name": "pytorchenv"
  },
  "language_info": {
   "codemirror_mode": {
    "name": "ipython",
    "version": 3
   },
   "file_extension": ".py",
   "mimetype": "text/x-python",
   "name": "python",
   "nbconvert_exporter": "python",
   "pygments_lexer": "ipython3",
   "version": "3.8.5"
  }
 },
 "nbformat": 4,
 "nbformat_minor": 4
}
